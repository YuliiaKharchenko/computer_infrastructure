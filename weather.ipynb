{
 "cells": [
  {
   "cell_type": "markdown",
   "metadata": {},
   "source": [
    "***\n",
    "***\n",
    "\n",
    "### **Progress report on the implementation of task series 1 to 7**\n",
    "\n",
    "***"
   ]
  },
  {
   "cell_type": "markdown",
   "metadata": {},
   "source": [
    "This notebook documents the process for automating the collection and timestamping of meteorological data, broken down into tasks that range from setting up timestamped records to creating a script to automate data downloads. Each task is explained with descriptions of the corresponding Linux commands and their roles in achieving the overall workflow.\n",
    "\n",
    "All tasks were completed in GitHub Codespaces, a cloud-based development environment. Codespaces provides a seamless setup for Linux-based command-line tools and enables direct access to repositories, making it ideal for development tasks involving automation, scripting, and data handling."
   ]
  },
  {
   "cell_type": "markdown",
   "metadata": {},
   "source": [
    "***"
   ]
  },
  {
   "cell_type": "markdown",
   "metadata": {},
   "source": [
    "##### Task 1: **Create Directory Structure**\n",
    "\n",
    "> Using the command line, create a directory (that is, a folder) named data at the root of your repository. Inside data, create two subdirectories:\n",
    "> timestamps and weather.\n",
    "\n",
    "\n",
    "The steps for implementation are shown in the following figure:\n",
    "\n",
    "![Image1](./img/20241015_130843.png)\n",
    "\n",
    "Commands description: \n",
    "\n",
    "- `ls`: Lists the contents of a directory.\n",
    "  - `ls` lists files and directories in the current directory.\n",
    "- `ls -al`: Displays all files and directories, including hidden ones, in a detailed list format.\n",
    "  - `-a`: Lists all entries, including hidden files and directories.\n",
    "  - `-l`: Uses a long format to show detailed information (permissions, ownership, size, modification time).\n",
    "- `mkdir -p`: Creates directories, including any necessary parent directories without error if the directory already exists.\n",
    "  - `mkdir`: Creates new directories.\n",
    "  - `-p`: Ensures parent directories are created as needed and prevents errors if directories already exist.\n",
    "\n",
    "These commands are used to set up the `data` directory structure with the `timestamps` and `weather` subdirectories.\n"
   ]
  },
  {
   "cell_type": "markdown",
   "metadata": {},
   "source": [
    "***"
   ]
  },
  {
   "cell_type": "markdown",
   "metadata": {},
   "source": [
    "##### Task 2: **Timestamps**\n",
    "\n",
    "> Navigate to the data/timestamps directory. Use the date command to output the current date and time, appending the output to a file named now.txt. Make\n",
    "> sure to use the >> operator to append (not overwrite) the file. Repeat this step ten times, then use the more command to verify that now.txt has the \n",
    "> expected content.\n",
    "\n",
    "The steps for implementation are shown in the following figure:\n",
    "\n",
    "![Image2](./img/20241022_135417.png)\n",
    "\n",
    "Commands description: \n",
    "\n",
    "- `cd`: Changes the current working directory to the specified path.\n",
    "  - `cd data/timestamps` navigates to the `timestamps` directory inside `data`.\n",
    "  \n",
    "- `date`: Outputs the current system date and time.\n",
    "  \n",
    "- `>>` (append operator): A shell redirection operator used to add output to the end of a file without overwriting its existing contents.\n",
    "  \n",
    "- `more`: Displays the contents of a file page by page, allowing you to verify its contents on the screen.\n",
    "\n",
    "These commands are used to navigate to the `timestamps` directory, append timestamps to the `now.txt` file multiple times (using `date >> now.txt`), and verify its contents as required by the task (using `more now.txt`)."
   ]
  },
  {
   "cell_type": "markdown",
   "metadata": {},
   "source": [
    "***"
   ]
  },
  {
   "cell_type": "markdown",
   "metadata": {},
   "source": [
    "##### Task 3: **Formatting Timestamps**\n",
    "\n",
    "> Run the date command again, but this time format the output using YYYYmmdd_HHMMSS (e.g., 20261114_130003 for 1:00:03 PM on November 14, 2026). Refer to\n",
    "> the date man page (using man date) for more formatting options (Press q to exit the man page). Append the formatted output to a file named formatted.txt.\n",
    "\n",
    "The steps for implementation are shown in the following figure:\n",
    "\n",
    "![Image3](./img/20241022_143550.png)\n",
    "\n",
    "Commands description: \n",
    "\n",
    "- `cd`: Changes the current working directory to the specified path.\n",
    "  - `cd data/timestamps` navigates to the `timestamps` directory inside `data`.\n",
    "  \n",
    "- `ls`: Lists the contents of a directory.\n",
    "  - `ls` lists the files in the current directory, allowing you to check the files in the `timestamps` folder.\n",
    "\n",
    "- `date`: Outputs the current system date and time.\n",
    "  - `date` will print the current date and time in the default format.\n",
    "  \n",
    "- Formatting with `date`: To format the date as `YYYYmmdd_HHMMSS`, the `+` symbol is used with specific formatting options:\n",
    "  - `%Y`: Year in four digits (e.g., `2026`)\n",
    "  - `%m`: Month in two digits (e.g., `11` for November)\n",
    "  - `%d`: Day of the month in two digits\n",
    "  - `%H`: Hour in 24-hour format\n",
    "  - `%M`: Minutes\n",
    "  - `%S`: Seconds\n",
    "  \n",
    "- `cat`: Concatenates files and prints them to the standard output.\n",
    "  - `cat formatted.txt` will display the contents of the `formatted.txt` file.\n",
    "\n",
    "- `man date`: Opens the manual page for the `date` command to explore various formatting options.\n",
    "  - Pressing `q` to exit the manual page after viewing the available options.\n",
    "\n",
    "These commands are used to format the current timestamp, append it to the `formatted.txt` file, and allow you to explore the date command's manual for additional formatting options."
   ]
  },
  {
   "cell_type": "markdown",
   "metadata": {},
   "source": [
    "***"
   ]
  },
  {
   "cell_type": "markdown",
   "metadata": {},
   "source": [
    "##### **Task 4: Create Timestamped Files**\n",
    "\n",
    "> Use the touch command to create an empty file with a name in the YYYYmmdd_HHMMSS.txt format. You can achieve this by embedding your date command in \n",
    "> backticks ` into the touch command. You should no longer use redirection (>>) in this step.\n",
    "\n",
    "The steps for implementation are shown in the following figure:\n",
    "\n",
    "![Image4](./img/20241022_160529.png)\n",
    "\n",
    "Commands description:\n",
    "\n",
    "- `cd`: Changes the current working directory to the specified path.\n",
    "  - `cd data/timestamps` navigates to the `timestamps` directory inside `data`.\n",
    "  \n",
    "- `touch`: Used to create an empty file or update the timestamp of an existing file.\n",
    "  - ``` touch `date +\"%Y%m%d_%H%M%S.txt\"` ``` creates a new file with a name based on the current timestamp in the format `YYYYmmdd_HHMMSS.txt`.\n",
    "\n",
    "- `ls`: Lists the contents of a directory.\n",
    "  - `ls` lists the files in the current directory, which can be used to verify that the timestamped file has been created successfully.\n",
    "\n",
    "These commands are used to navigate to the `timestamps` directory and create files with names based on the current timestamp using the `touch` command, without overwriting any existing files."
   ]
  },
  {
   "cell_type": "markdown",
   "metadata": {},
   "source": [
    "***"
   ]
  },
  {
   "cell_type": "markdown",
   "metadata": {},
   "source": [
    "\n",
    "##### **Task 5: Download Today's Weather Data**\n",
    "\n",
    "> Change to the data/weather directory. Download the latest weather data for the Athenry weather station from Met Eireann using wget. Use the -O \n",
    "> <filename> option to save the file as weather.json. The data can be found at this URL:\n",
    "> https://prodapi.metweb.ie/observations/athenry/today.\n",
    "\n",
    "The steps for implementation are shown in the following figure:\n",
    "\n",
    "![Image5](./img/20241029_152214.png)\n",
    "\n",
    "Commands description: \n",
    "\n",
    "- `cd`: Changes the current working directory.\n",
    "  - `cd data/weather` navigates to the `weather` directory inside `data`.\n",
    "  \n",
    "- `wget`: A command-line tool for downloading files from the web.\n",
    "  - `wget -O weather.json https://prodapi.metweb.ie/observations/athenry/today` downloads the latest weather data and saves it as `weather.json`.\n",
    "  - `-O`: Specifies the output filename, in this case, `weather.json`.\n",
    "\n",
    "These commands are used to navigate to the `weather` directory and download the weather data."
   ]
  },
  {
   "cell_type": "markdown",
   "metadata": {},
   "source": [
    "***"
   ]
  },
  {
   "cell_type": "markdown",
   "metadata": {},
   "source": [
    "\n",
    "##### **Task 6: Timestamp the Data**\n",
    "\n",
    "> Modify the command from Task 5 to save the downloaded file with a timestamped name in the format YYYYmmdd_HHMMSS.json.\n",
    "\n",
    "The steps for implementation are shown in the following figure:\n",
    "\n",
    "![Image6](./img/20241029_153151.png)\n",
    "\n",
    "Commands description: \n",
    "\n",
    "- `wget`: A command-line tool for downloading files from the web.\n",
    "  - ``` wget -O `date +\"%Y%m%d_%H%M%S\".json` https://prodapi.metweb.ie/observations/athenry/today ``` downloads the weather data and saves it with a timestamped filename in the format `YYYYmmdd_HHMMSS.json`.\n",
    "  - `-O`: Specifies the output filename.\n",
    "  - ``` `date +\"%Y%m%d_%H%M%S\"` ```: Embeds the current timestamp in the filename.\n",
    "\n",
    "\n",
    "This command is used to download the weather data with a timestamped filename.\n"
   ]
  },
  {
   "cell_type": "markdown",
   "metadata": {},
   "source": [
    "***"
   ]
  },
  {
   "cell_type": "markdown",
   "metadata": {},
   "source": [
    "\n",
    "##### **Task 7: Write the Script**\n",
    "\n",
    "> Write a bash script called weather.sh in the root of your repository. This script should automate the process from Task 6, saving the weather data to \n",
    "> the data/weather directory. Make the script executable and test it by running it.\n",
    "\n",
    "The steps for implementation are shown in the following figure:\n",
    "\n",
    "![Image7](./img/20241029_161658.png)\n",
    "![Image8](./img/20241029_162537.png)\n",
    "\n",
    "Commands description: \n",
    "\n",
    "The file `weather.sh` was created in VS Code using the \"New File\" icon in the file explorer.\n",
    "  > *Note*: `touch weather.sh` creates the script file `weather.sh` in the root directory.  \n",
    "\n",
    "The script was written in VS Code's editor.\n",
    "  > *Note*: `nano weather.sh` or `vi weather.sh` opens the file in the respective text editor where you can write the bash script.\n",
    "\n",
    "In the script:\n",
    "- `#!/bin/bash`: The shebang line that tells the system to use the bash shell to interpret the script.\n",
    "\n",
    "- `wget` A command-line tool for downloading files from the web.\n",
    "  - ``` wget -O `date +\"%Y%m%d_%H%M%S\".json` https://prodapi.metweb.ie/observations/athenry/today ``` downloads the weather data and saves it with a timestamped filename in the format `YYYYmmdd_HHMMSS.json`.\n",
    "\n",
    "\n",
    "`chmod u+x`: Changes the permissions of a file to make it executable.\n",
    "  - `chmod u+x ./weather.sh` grants execute permission to the `weather.sh` script.\n",
    "\n",
    "`./weather.sh`: Runs the bash script, downloading the weather data and saving it with a timestamped filename in the correct directory.\n",
    "\n",
    "These commands are used to create the `weather.sh` script, write the necessary code to automate the process, and then make it executable to run and test."
   ]
  },
  {
   "cell_type": "markdown",
   "metadata": {},
   "source": [
    "*** \n",
    "### END\n",
    "\n",
    "***\n",
    "***"
   ]
  }
 ],
 "metadata": {
  "kernelspec": {
   "display_name": "base",
   "language": "python",
   "name": "python3"
  },
  "language_info": {
   "name": "python",
   "version": "3.11.5"
  }
 },
 "nbformat": 4,
 "nbformat_minor": 2
}
