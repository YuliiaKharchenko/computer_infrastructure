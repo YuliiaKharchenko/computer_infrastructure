{
 "cells": [
  {
   "cell_type": "markdown",
   "metadata": {},
   "source": [
    "\n",
    "***\n",
    "\n",
    "# **Automating and Analyzing Meteorological Data with Linux and Python**\n",
    "\n",
    "***"
   ]
  },
  {
   "cell_type": "markdown",
   "metadata": {},
   "source": [
    "This notebook documents the process for automating the collection, timestamping, and analysis of meteorological data. The workflow is broken down into tasks that range from setting up timestamped records and creating scripts to automate data downloads, to analyzing the downloaded weather data using Python.\n",
    "\n",
    "Each task is explained with descriptions of the corresponding Linux commands and their roles in achieving the overall workflow. The notebook also includes a data analysis task where pandas is used to load and examine a weather data file. A short summary is provided based on information from [data.gov.ie](https://data.gov.ie/), explaining the structure and content of the dataset.\n",
    "\n",
    "All tasks were completed in GitHub Codespaces, a cloud-based development environment. Codespaces provides a seamless setup for Linux-based command-line tools and enables direct access to repositories, making it ideal for development tasks involving automation, scripting, and data handling."
   ]
  },
  {
   "cell_type": "markdown",
   "metadata": {},
   "source": [
    "***\n",
    "***\n",
    "\n",
    "### **Progress report on the implementation of task series 1 to 7**"
   ]
  },
  {
   "cell_type": "markdown",
   "metadata": {},
   "source": [
    "***"
   ]
  },
  {
   "cell_type": "markdown",
   "metadata": {},
   "source": [
    "##### Task 1: **Create Directory Structure**\n",
    "\n",
    "> Using the command line, create a directory (that is, a folder) named data at the root of your repository. Inside data, create two subdirectories:\n",
    "> timestamps and weather.\n",
    "\n",
    "\n",
    "The steps for implementation are shown in the following figure:\n",
    "\n",
    "![Image1](./img/20241015_130843.png)\n",
    "\n",
    "Commands description: \n",
    "\n",
    "- `ls`: Lists the contents of a directory.\n",
    "  - `ls` lists files and directories in the current directory.\n",
    "- `ls -al`: Displays all files and directories, including hidden ones, in a detailed list format.\n",
    "  - `-a`: Lists all entries, including hidden files and directories.\n",
    "  - `-l`: Uses a long format to show detailed information (permissions, ownership, size, modification time).\n",
    "- `mkdir -p`: Creates directories, including any necessary parent directories without error if the directory already exists.\n",
    "  - `mkdir`: Creates new directories.\n",
    "  - `-p`: Ensures parent directories are created as needed and prevents errors if directories already exist.\n",
    "\n",
    "These commands are used to set up the `data` directory structure with the `timestamps` and `weather` subdirectories.\n"
   ]
  },
  {
   "cell_type": "markdown",
   "metadata": {},
   "source": [
    "***"
   ]
  },
  {
   "cell_type": "markdown",
   "metadata": {},
   "source": [
    "##### Task 2: **Timestamps**\n",
    "\n",
    "> Navigate to the data/timestamps directory. Use the date command to output the current date and time, appending the output to a file named now.txt. Make\n",
    "> sure to use the >> operator to append (not overwrite) the file. Repeat this step ten times, then use the more command to verify that now.txt has the \n",
    "> expected content.\n",
    "\n",
    "The steps for implementation are shown in the following figure:\n",
    "\n",
    "![Image2](./img/20241022_135417.png)\n",
    "\n",
    "Commands description: \n",
    "\n",
    "- `cd`: Changes the current working directory to the specified path.\n",
    "  - `cd data/timestamps` navigates to the `timestamps` directory inside `data`.\n",
    "  \n",
    "- `date`: Outputs the current system date and time.\n",
    "  \n",
    "- `>>` (append operator): A shell redirection operator used to add output to the end of a file without overwriting its existing contents.\n",
    "  \n",
    "- `more`: Displays the contents of a file page by page, allowing you to verify its contents on the screen.\n",
    "\n",
    "These commands are used to navigate to the `timestamps` directory, append timestamps to the `now.txt` file multiple times (using `date >> now.txt`), and verify its contents as required by the task (using `more now.txt`)."
   ]
  },
  {
   "cell_type": "markdown",
   "metadata": {},
   "source": [
    "***"
   ]
  },
  {
   "cell_type": "markdown",
   "metadata": {},
   "source": [
    "##### Task 3: **Formatting Timestamps**\n",
    "\n",
    "> Run the date command again, but this time format the output using YYYYmmdd_HHMMSS (e.g., 20261114_130003 for 1:00:03 PM on November 14, 2026). Refer to\n",
    "> the date man page (using man date) for more formatting options (Press q to exit the man page). Append the formatted output to a file named formatted.txt.\n",
    "\n",
    "The steps for implementation are shown in the following figure:\n",
    "\n",
    "![Image3](./img/20241022_143550.png)\n",
    "\n",
    "Commands description: \n",
    "\n",
    "- `cd`: Changes the current working directory to the specified path.\n",
    "  - `cd data/timestamps` navigates to the `timestamps` directory inside `data`.\n",
    "  \n",
    "- `ls`: Lists the contents of a directory.\n",
    "  - `ls` lists the files in the current directory, allowing you to check the files in the `timestamps` folder.\n",
    "\n",
    "- `date`: Outputs the current system date and time.\n",
    "  - `date` will print the current date and time in the default format.\n",
    "  \n",
    "- Formatting with `date`: To format the date as `YYYYmmdd_HHMMSS`, the `+` symbol is used with specific formatting options:\n",
    "  - `%Y`: Year in four digits (e.g., `2026`)\n",
    "  - `%m`: Month in two digits (e.g., `11` for November)\n",
    "  - `%d`: Day of the month in two digits\n",
    "  - `%H`: Hour in 24-hour format\n",
    "  - `%M`: Minutes\n",
    "  - `%S`: Seconds\n",
    "  \n",
    "- `cat`: Concatenates files and prints them to the standard output.\n",
    "  - `cat formatted.txt` will display the contents of the `formatted.txt` file.\n",
    "\n",
    "- `man date`: Opens the manual page for the `date` command to explore various formatting options.\n",
    "  - Pressing `q` to exit the manual page after viewing the available options.\n",
    "\n",
    "These commands are used to format the current timestamp, append it to the `formatted.txt` file, and allow you to explore the date command's manual for additional formatting options."
   ]
  },
  {
   "cell_type": "markdown",
   "metadata": {},
   "source": [
    "***"
   ]
  },
  {
   "cell_type": "markdown",
   "metadata": {},
   "source": [
    "##### **Task 4: Create Timestamped Files**\n",
    "\n",
    "> Use the touch command to create an empty file with a name in the YYYYmmdd_HHMMSS.txt format. You can achieve this by embedding your date command in \n",
    "> backticks ` into the touch command. You should no longer use redirection (>>) in this step.\n",
    "\n",
    "The steps for implementation are shown in the following figure:\n",
    "\n",
    "![Image4](./img/20241022_160529.png)\n",
    "\n",
    "Commands description:\n",
    "\n",
    "- `cd`: Changes the current working directory to the specified path.\n",
    "  - `cd data/timestamps` navigates to the `timestamps` directory inside `data`.\n",
    "  \n",
    "- `touch`: Used to create an empty file or update the timestamp of an existing file.\n",
    "  - ``` touch `date +\"%Y%m%d_%H%M%S.txt\"` ``` creates a new file with a name based on the current timestamp in the format `YYYYmmdd_HHMMSS.txt`.\n",
    "\n",
    "- `ls`: Lists the contents of a directory.\n",
    "  - `ls` lists the files in the current directory, which can be used to verify that the timestamped file has been created successfully.\n",
    "\n",
    "These commands are used to navigate to the `timestamps` directory and create files with names based on the current timestamp using the `touch` command, without overwriting any existing files."
   ]
  },
  {
   "cell_type": "markdown",
   "metadata": {},
   "source": [
    "***"
   ]
  },
  {
   "cell_type": "markdown",
   "metadata": {},
   "source": [
    "\n",
    "##### **Task 5: Download Today's Weather Data**\n",
    "\n",
    "> Change to the data/weather directory. Download the latest weather data for the Athenry weather station from Met Eireann using wget. Use the -O \n",
    "> <filename> option to save the file as weather.json. The data can be found at this URL:\n",
    "> https://prodapi.metweb.ie/observations/athenry/today.\n",
    "\n",
    "The steps for implementation are shown in the following figure:\n",
    "\n",
    "![Image5](./img/20241029_152214.png)\n",
    "\n",
    "Commands description: \n",
    "\n",
    "- `cd`: Changes the current working directory.\n",
    "  - `cd data/weather` navigates to the `weather` directory inside `data`.\n",
    "  \n",
    "- `wget`: A command-line tool for downloading files from the web.\n",
    "  - `wget -O weather.json https://prodapi.metweb.ie/observations/athenry/today` downloads the latest weather data and saves it as `weather.json`.\n",
    "  - `-O`: Specifies the output filename, in this case, `weather.json`.\n",
    "\n",
    "These commands are used to navigate to the `weather` directory and download the weather data."
   ]
  },
  {
   "cell_type": "markdown",
   "metadata": {},
   "source": [
    "***"
   ]
  },
  {
   "cell_type": "markdown",
   "metadata": {},
   "source": [
    "\n",
    "##### **Task 6: Timestamp the Data**\n",
    "\n",
    "> Modify the command from Task 5 to save the downloaded file with a timestamped name in the format YYYYmmdd_HHMMSS.json.\n",
    "\n",
    "The steps for implementation are shown in the following figure:\n",
    "\n",
    "![Image6](./img/20241029_153151.png)\n",
    "\n",
    "Commands description: \n",
    "\n",
    "- `wget`: A command-line tool for downloading files from the web.\n",
    "  - ``` wget -O `date +\"%Y%m%d_%H%M%S\".json` https://prodapi.metweb.ie/observations/athenry/today ``` downloads the weather data and saves it with a timestamped filename in the format `YYYYmmdd_HHMMSS.json`.\n",
    "  - `-O`: Specifies the output filename.\n",
    "  - ``` `date +\"%Y%m%d_%H%M%S\"` ```: Embeds the current timestamp in the filename.\n",
    "\n",
    "\n",
    "This command is used to download the weather data with a timestamped filename.\n"
   ]
  },
  {
   "cell_type": "markdown",
   "metadata": {},
   "source": [
    "***"
   ]
  },
  {
   "cell_type": "markdown",
   "metadata": {},
   "source": [
    "\n",
    "##### **Task 7: Write the Script**\n",
    "\n",
    "> Write a bash script called weather.sh in the root of your repository. This script should automate the process from Task 6, saving the weather data to \n",
    "> the data/weather directory. Make the script executable and test it by running it.\n",
    "\n",
    "The steps for implementation are shown in the following figure:\n",
    "\n",
    "![Image7](./img/20241029_161658.png)\n",
    "![Image8](./img/20241029_162537.png)\n",
    "\n",
    "Commands description: \n",
    "\n",
    "The file `weather.sh` was created in VS Code using the \"New File\" icon in the file explorer.\n",
    "  > *Note*: `touch weather.sh` creates the script file `weather.sh` in the root directory.  \n",
    "\n",
    "The script was written in VS Code's editor.\n",
    "  > *Note*: `nano weather.sh` or `vi weather.sh` opens the file in the respective text editor where you can write the bash script.\n",
    "\n",
    "In the script:\n",
    "- `#!/bin/bash`: The shebang line that tells the system to use the bash shell to interpret the script.\n",
    "\n",
    "- `wget` A command-line tool for downloading files from the web.\n",
    "  - ``` wget -O `date +\"%Y%m%d_%H%M%S\".json` https://prodapi.metweb.ie/observations/athenry/today ``` downloads the weather data and saves it with a timestamped filename in the format `YYYYmmdd_HHMMSS.json`.\n",
    "\n",
    "\n",
    "`chmod u+x`: Changes the permissions of a file to make it executable.\n",
    "  - `chmod u+x ./weather.sh` grants execute permission to the `weather.sh` script.\n",
    "\n",
    "`./weather.sh`: Runs the bash script, downloading the weather data and saving it with a timestamped filename in the correct directory.\n",
    "\n",
    "These commands are used to create the `weather.sh` script, write the necessary code to automate the process, and then make it executable to run and test."
   ]
  },
  {
   "cell_type": "markdown",
   "metadata": {},
   "source": [
    "***\n",
    "\n",
    "##### **Task 9: pandas**\n",
    "\n",
    "> In your weather.ipynb notebook, use the pandas function read_json() to load in any one of the weather data files you have downloaded with your script. \n",
    "> Examine and summarize the data. Use the information provided [data.gov.ie](https://data.gov.ie/) to write a short explanation of what the data set contains."
   ]
  },
  {
   "cell_type": "markdown",
   "metadata": {},
   "source": [
    "Description of the resourse  \"Today's weather Athenry\" from [data.gov.ie](https://data.gov.ie/dataset/todays-weather-athenry/resource/2946c036-26fc-4364-9535-f794e936930b):\n",
    "\n",
    "> The file provides a list of hourly observations recorded throughout the current day for the synoptic station in Athenry, County Galway. The data is updated \n",
    "> every hour, and all time values are given in local time. Each hourly record includes the following information: station name, dry bulb temperature (in whole \n",
    "> degrees), weather description, wind speed (in knots), cardinal wind direction, relative humidity (in %), rainfall (in mm), mean sea level pressure (in mbar), \n",
    "> day of the week, date, and time of observation. Data has not undergone quality control."
   ]
  },
  {
   "cell_type": "code",
   "execution_count": 1,
   "metadata": {},
   "outputs": [],
   "source": [
    "# DataFrames. \n",
    "import pandas as pd\n",
    "# Numerical structures and operations.\n",
    "import numpy as np\n",
    "# Warnings.\n",
    "import warnings\n",
    "# Plotting.\n",
    "import matplotlib.pyplot as plt"
   ]
  },
  {
   "cell_type": "code",
   "execution_count": 2,
   "metadata": {},
   "outputs": [],
   "source": [
    "# Suppression of FutureWarning messages (applied due to the fact that when changing values to NaN, \n",
    "# a warning about upcoming changes in pandas behaviour appeared)\n",
    "warnings.filterwarnings(\"ignore\", category=FutureWarning)"
   ]
  },
  {
   "cell_type": "code",
   "execution_count": 3,
   "metadata": {},
   "outputs": [],
   "source": [
    "file = \"data/weather/20241029_162500.json\""
   ]
  },
  {
   "cell_type": "code",
   "execution_count": 4,
   "metadata": {},
   "outputs": [],
   "source": [
    "# Read JSON file into DataFrame.\n",
    "df = pd.read_json(file)"
   ]
  },
  {
   "cell_type": "code",
   "execution_count": 5,
   "metadata": {},
   "outputs": [],
   "source": [
    "# Replace \"-\" and \"\" with NaN.\n",
    "df.replace({\"-\": np.nan, \"\": np.nan}, inplace=True)"
   ]
  },
  {
   "cell_type": "code",
   "execution_count": 6,
   "metadata": {},
   "outputs": [
    {
     "data": {
      "text/html": [
       "<div>\n",
       "<style scoped>\n",
       "    .dataframe tbody tr th:only-of-type {\n",
       "        vertical-align: middle;\n",
       "    }\n",
       "\n",
       "    .dataframe tbody tr th {\n",
       "        vertical-align: top;\n",
       "    }\n",
       "\n",
       "    .dataframe thead th {\n",
       "        text-align: right;\n",
       "    }\n",
       "</style>\n",
       "<table border=\"1\" class=\"dataframe\">\n",
       "  <thead>\n",
       "    <tr style=\"text-align: right;\">\n",
       "      <th></th>\n",
       "      <th>name</th>\n",
       "      <th>temperature</th>\n",
       "      <th>symbol</th>\n",
       "      <th>weatherDescription</th>\n",
       "      <th>text</th>\n",
       "      <th>windSpeed</th>\n",
       "      <th>windGust</th>\n",
       "      <th>cardinalWindDirection</th>\n",
       "      <th>windDirection</th>\n",
       "      <th>humidity</th>\n",
       "      <th>rainfall</th>\n",
       "      <th>pressure</th>\n",
       "      <th>dayName</th>\n",
       "      <th>date</th>\n",
       "      <th>reportTime</th>\n",
       "    </tr>\n",
       "  </thead>\n",
       "  <tbody>\n",
       "    <tr>\n",
       "      <th>0</th>\n",
       "      <td>Athenry</td>\n",
       "      <td>10</td>\n",
       "      <td>15n</td>\n",
       "      <td>Fog / Mist</td>\n",
       "      <td>\"Mist\"</td>\n",
       "      <td>4</td>\n",
       "      <td>NaN</td>\n",
       "      <td>W</td>\n",
       "      <td>270</td>\n",
       "      <td>97</td>\n",
       "      <td>0.0</td>\n",
       "      <td>1023</td>\n",
       "      <td>Tuesday</td>\n",
       "      <td>2024-10-29</td>\n",
       "      <td>00:00</td>\n",
       "    </tr>\n",
       "    <tr>\n",
       "      <th>1</th>\n",
       "      <td>Athenry</td>\n",
       "      <td>9</td>\n",
       "      <td>15n</td>\n",
       "      <td>Fog / Mist</td>\n",
       "      <td>\"Fog thickening\"</td>\n",
       "      <td>4</td>\n",
       "      <td>NaN</td>\n",
       "      <td>SW</td>\n",
       "      <td>225</td>\n",
       "      <td>97</td>\n",
       "      <td>0.0</td>\n",
       "      <td>1024</td>\n",
       "      <td>Tuesday</td>\n",
       "      <td>2024-10-29</td>\n",
       "      <td>01:00</td>\n",
       "    </tr>\n",
       "    <tr>\n",
       "      <th>2</th>\n",
       "      <td>Athenry</td>\n",
       "      <td>9</td>\n",
       "      <td>15n</td>\n",
       "      <td>Fog / Mist</td>\n",
       "      <td>\"Fog thickening\"</td>\n",
       "      <td>2</td>\n",
       "      <td>NaN</td>\n",
       "      <td>W</td>\n",
       "      <td>270</td>\n",
       "      <td>99</td>\n",
       "      <td>0.0</td>\n",
       "      <td>1024</td>\n",
       "      <td>Tuesday</td>\n",
       "      <td>2024-10-29</td>\n",
       "      <td>02:00</td>\n",
       "    </tr>\n",
       "    <tr>\n",
       "      <th>3</th>\n",
       "      <td>Athenry</td>\n",
       "      <td>9</td>\n",
       "      <td>15n</td>\n",
       "      <td>Fog / Mist</td>\n",
       "      <td>\"Fog thinning\"</td>\n",
       "      <td>4</td>\n",
       "      <td>NaN</td>\n",
       "      <td>SW</td>\n",
       "      <td>225</td>\n",
       "      <td>99</td>\n",
       "      <td>0.0</td>\n",
       "      <td>1024</td>\n",
       "      <td>Tuesday</td>\n",
       "      <td>2024-10-29</td>\n",
       "      <td>03:00</td>\n",
       "    </tr>\n",
       "    <tr>\n",
       "      <th>4</th>\n",
       "      <td>Athenry</td>\n",
       "      <td>9</td>\n",
       "      <td>15n</td>\n",
       "      <td>Fog / Mist</td>\n",
       "      <td>\"Fog thickening\"</td>\n",
       "      <td>6</td>\n",
       "      <td>NaN</td>\n",
       "      <td>SW</td>\n",
       "      <td>225</td>\n",
       "      <td>99</td>\n",
       "      <td>0.1</td>\n",
       "      <td>1024</td>\n",
       "      <td>Tuesday</td>\n",
       "      <td>2024-10-29</td>\n",
       "      <td>04:00</td>\n",
       "    </tr>\n",
       "  </tbody>\n",
       "</table>\n",
       "</div>"
      ],
      "text/plain": [
       "      name  temperature symbol weatherDescription              text windSpeed  \\\n",
       "0  Athenry           10    15n         Fog / Mist            \"Mist\"         4   \n",
       "1  Athenry            9    15n         Fog / Mist  \"Fog thickening\"         4   \n",
       "2  Athenry            9    15n         Fog / Mist  \"Fog thickening\"         2   \n",
       "3  Athenry            9    15n         Fog / Mist    \"Fog thinning\"         4   \n",
       "4  Athenry            9    15n         Fog / Mist  \"Fog thickening\"         6   \n",
       "\n",
       "   windGust cardinalWindDirection  windDirection  humidity  rainfall  \\\n",
       "0       NaN                     W            270        97       0.0   \n",
       "1       NaN                    SW            225        97       0.0   \n",
       "2       NaN                     W            270        99       0.0   \n",
       "3       NaN                    SW            225        99       0.0   \n",
       "4       NaN                    SW            225        99       0.1   \n",
       "\n",
       "   pressure  dayName       date reportTime  \n",
       "0      1023  Tuesday 2024-10-29      00:00  \n",
       "1      1024  Tuesday 2024-10-29      01:00  \n",
       "2      1024  Tuesday 2024-10-29      02:00  \n",
       "3      1024  Tuesday 2024-10-29      03:00  \n",
       "4      1024  Tuesday 2024-10-29      04:00  "
      ]
     },
     "execution_count": 6,
     "metadata": {},
     "output_type": "execute_result"
    }
   ],
   "source": [
    "# Show.\n",
    "df.head()"
   ]
  },
  {
   "cell_type": "code",
   "execution_count": 7,
   "metadata": {},
   "outputs": [
    {
     "data": {
      "text/plain": [
       "Index(['name', 'temperature', 'symbol', 'weatherDescription', 'text',\n",
       "       'windSpeed', 'windGust', 'cardinalWindDirection', 'windDirection',\n",
       "       'humidity', 'rainfall', 'pressure', 'dayName', 'date', 'reportTime'],\n",
       "      dtype='object')"
      ]
     },
     "execution_count": 7,
     "metadata": {},
     "output_type": "execute_result"
    }
   ],
   "source": [
    "# Names of columns in the DataFrame. \n",
    "df.columns"
   ]
  },
  {
   "cell_type": "code",
   "execution_count": 8,
   "metadata": {},
   "outputs": [
    {
     "name": "stdout",
     "output_type": "stream",
     "text": [
      "<class 'pandas.core.frame.DataFrame'>\n",
      "RangeIndex: 17 entries, 0 to 16\n",
      "Data columns (total 15 columns):\n",
      " #   Column                 Non-Null Count  Dtype         \n",
      "---  ------                 --------------  -----         \n",
      " 0   name                   17 non-null     object        \n",
      " 1   temperature            17 non-null     int64         \n",
      " 2   symbol                 17 non-null     object        \n",
      " 3   weatherDescription     17 non-null     object        \n",
      " 4   text                   17 non-null     object        \n",
      " 5   windSpeed              14 non-null     object        \n",
      " 6   windGust               0 non-null      float64       \n",
      " 7   cardinalWindDirection  14 non-null     object        \n",
      " 8   windDirection          17 non-null     int64         \n",
      " 9   humidity               17 non-null     int64         \n",
      " 10  rainfall               17 non-null     float64       \n",
      " 11  pressure               17 non-null     int64         \n",
      " 12  dayName                17 non-null     object        \n",
      " 13  date                   17 non-null     datetime64[ns]\n",
      " 14  reportTime             17 non-null     object        \n",
      "dtypes: datetime64[ns](1), float64(2), int64(4), object(8)\n",
      "memory usage: 2.1+ KB\n"
     ]
    }
   ],
   "source": [
    "# General information about DataFrame.\n",
    "df.info()"
   ]
  },
  {
   "cell_type": "code",
   "execution_count": 9,
   "metadata": {},
   "outputs": [
    {
     "data": {
      "text/plain": [
       "name                      0\n",
       "temperature               0\n",
       "symbol                    0\n",
       "weatherDescription        0\n",
       "text                      0\n",
       "windSpeed                 3\n",
       "windGust                 17\n",
       "cardinalWindDirection     3\n",
       "windDirection             0\n",
       "humidity                  0\n",
       "rainfall                  0\n",
       "pressure                  0\n",
       "dayName                   0\n",
       "date                      0\n",
       "reportTime                0\n",
       "dtype: int64"
      ]
     },
     "execution_count": 9,
     "metadata": {},
     "output_type": "execute_result"
    }
   ],
   "source": [
    "# Count missing values. \n",
    "df.isna().sum()"
   ]
  },
  {
   "cell_type": "code",
   "execution_count": 10,
   "metadata": {},
   "outputs": [
    {
     "data": {
      "text/html": [
       "<div>\n",
       "<style scoped>\n",
       "    .dataframe tbody tr th:only-of-type {\n",
       "        vertical-align: middle;\n",
       "    }\n",
       "\n",
       "    .dataframe tbody tr th {\n",
       "        vertical-align: top;\n",
       "    }\n",
       "\n",
       "    .dataframe thead th {\n",
       "        text-align: right;\n",
       "    }\n",
       "</style>\n",
       "<table border=\"1\" class=\"dataframe\">\n",
       "  <thead>\n",
       "    <tr style=\"text-align: right;\">\n",
       "      <th></th>\n",
       "      <th>temperature</th>\n",
       "      <th>windGust</th>\n",
       "      <th>windDirection</th>\n",
       "      <th>humidity</th>\n",
       "      <th>rainfall</th>\n",
       "      <th>pressure</th>\n",
       "      <th>date</th>\n",
       "    </tr>\n",
       "  </thead>\n",
       "  <tbody>\n",
       "    <tr>\n",
       "      <th>count</th>\n",
       "      <td>17.000000</td>\n",
       "      <td>0.0</td>\n",
       "      <td>17.000000</td>\n",
       "      <td>17.000000</td>\n",
       "      <td>17.000000</td>\n",
       "      <td>17.000000</td>\n",
       "      <td>17</td>\n",
       "    </tr>\n",
       "    <tr>\n",
       "      <th>mean</th>\n",
       "      <td>10.000000</td>\n",
       "      <td>NaN</td>\n",
       "      <td>198.529412</td>\n",
       "      <td>95.411765</td>\n",
       "      <td>0.011765</td>\n",
       "      <td>1025.470588</td>\n",
       "      <td>2024-10-29 00:00:00</td>\n",
       "    </tr>\n",
       "    <tr>\n",
       "      <th>min</th>\n",
       "      <td>6.000000</td>\n",
       "      <td>NaN</td>\n",
       "      <td>0.000000</td>\n",
       "      <td>81.000000</td>\n",
       "      <td>0.000000</td>\n",
       "      <td>1023.000000</td>\n",
       "      <td>2024-10-29 00:00:00</td>\n",
       "    </tr>\n",
       "    <tr>\n",
       "      <th>25%</th>\n",
       "      <td>9.000000</td>\n",
       "      <td>NaN</td>\n",
       "      <td>225.000000</td>\n",
       "      <td>97.000000</td>\n",
       "      <td>0.000000</td>\n",
       "      <td>1024.000000</td>\n",
       "      <td>2024-10-29 00:00:00</td>\n",
       "    </tr>\n",
       "    <tr>\n",
       "      <th>50%</th>\n",
       "      <td>9.000000</td>\n",
       "      <td>NaN</td>\n",
       "      <td>225.000000</td>\n",
       "      <td>97.000000</td>\n",
       "      <td>0.000000</td>\n",
       "      <td>1026.000000</td>\n",
       "      <td>2024-10-29 00:00:00</td>\n",
       "    </tr>\n",
       "    <tr>\n",
       "      <th>75%</th>\n",
       "      <td>12.000000</td>\n",
       "      <td>NaN</td>\n",
       "      <td>270.000000</td>\n",
       "      <td>98.000000</td>\n",
       "      <td>0.000000</td>\n",
       "      <td>1027.000000</td>\n",
       "      <td>2024-10-29 00:00:00</td>\n",
       "    </tr>\n",
       "    <tr>\n",
       "      <th>max</th>\n",
       "      <td>14.000000</td>\n",
       "      <td>NaN</td>\n",
       "      <td>270.000000</td>\n",
       "      <td>99.000000</td>\n",
       "      <td>0.100000</td>\n",
       "      <td>1027.000000</td>\n",
       "      <td>2024-10-29 00:00:00</td>\n",
       "    </tr>\n",
       "    <tr>\n",
       "      <th>std</th>\n",
       "      <td>2.474874</td>\n",
       "      <td>NaN</td>\n",
       "      <td>98.151106</td>\n",
       "      <td>5.124193</td>\n",
       "      <td>0.033211</td>\n",
       "      <td>1.328422</td>\n",
       "      <td>NaN</td>\n",
       "    </tr>\n",
       "  </tbody>\n",
       "</table>\n",
       "</div>"
      ],
      "text/plain": [
       "       temperature  windGust  windDirection   humidity   rainfall  \\\n",
       "count    17.000000       0.0      17.000000  17.000000  17.000000   \n",
       "mean     10.000000       NaN     198.529412  95.411765   0.011765   \n",
       "min       6.000000       NaN       0.000000  81.000000   0.000000   \n",
       "25%       9.000000       NaN     225.000000  97.000000   0.000000   \n",
       "50%       9.000000       NaN     225.000000  97.000000   0.000000   \n",
       "75%      12.000000       NaN     270.000000  98.000000   0.000000   \n",
       "max      14.000000       NaN     270.000000  99.000000   0.100000   \n",
       "std       2.474874       NaN      98.151106   5.124193   0.033211   \n",
       "\n",
       "          pressure                 date  \n",
       "count    17.000000                   17  \n",
       "mean   1025.470588  2024-10-29 00:00:00  \n",
       "min    1023.000000  2024-10-29 00:00:00  \n",
       "25%    1024.000000  2024-10-29 00:00:00  \n",
       "50%    1026.000000  2024-10-29 00:00:00  \n",
       "75%    1027.000000  2024-10-29 00:00:00  \n",
       "max    1027.000000  2024-10-29 00:00:00  \n",
       "std       1.328422                  NaN  "
      ]
     },
     "execution_count": 10,
     "metadata": {},
     "output_type": "execute_result"
    }
   ],
   "source": [
    "df.describe()"
   ]
  },
  {
   "cell_type": "markdown",
   "metadata": {},
   "source": [
    "**Summarising**: \n",
    "\n",
    "**Missing Data**:\n",
    "\n",
    "`windGust`: Completely missing (0/17 entries).\n",
    "`windSpeed` and `cardinalWindDirection`: 3 missing values each.\n",
    "\n",
    "**Key Statistics**:\n",
    "\n",
    "Temperature:\n",
    "Range: 6°C to 14°C.\n",
    "Mean: 10°C.\n",
    "\n",
    "Rainfall:\n",
    "Very low; max is 0.1 mm, with most values being 0.\n",
    "\n",
    "Pressure:\n",
    "Stable, ranging from 1023 to 1027 mbar.\n",
    "\n",
    "Wind Direction:\n",
    "Mean direction: ~198°, predominantly westward or southwestward."
   ]
  },
  {
   "cell_type": "code",
   "execution_count": 11,
   "metadata": {},
   "outputs": [
    {
     "name": "stdout",
     "output_type": "stream",
     "text": [
      "             temperature  humidity  rainfall  pressure\n",
      "temperature     1.000000 -0.793464 -0.304166  0.570311\n",
      "humidity       -0.793464  1.000000  0.190113 -0.489325\n",
      "rainfall       -0.304166  0.190113  1.000000 -0.133333\n",
      "pressure        0.570311 -0.489325 -0.133333  1.000000\n"
     ]
    }
   ],
   "source": [
    "# Analyze the relationships between numerical variables.\n",
    "corr_matrix = df[['temperature', 'humidity', 'rainfall', 'pressure']].corr()\n",
    "print(corr_matrix)"
   ]
  },
  {
   "cell_type": "markdown",
   "metadata": {},
   "source": [
    "The correlation matrix shows that **temperature** has a moderate positive correlation with **pкessure** (0.57) and a strong negative correlation with **humidity** (-0.79). **Rainfall** has weak or negligible correlations with all variables."
   ]
  },
  {
   "cell_type": "code",
   "execution_count": 12,
   "metadata": {},
   "outputs": [
    {
     "data": {
      "image/png": "[encoded data removed]",
      "text/plain": [
       "<Figure size 1000x600 with 1 Axes>"
      ]
     },
     "metadata": {},
     "output_type": "display_data"
    }
   ],
   "source": [
    "# Temperature trends. \n",
    "\n",
    "# Choose the style.\n",
    "plt.style.use(\"grayscale\")\n",
    "\n",
    "# Create a plot. \n",
    "fig, ax = plt.subplots(figsize=(10, 6))\n",
    "ax.plot(df['reportTime'], df['temperature'], marker='o', linestyle='-', color='purple', alpha = 0.5)\n",
    "\n",
    "# Add titles and labels\n",
    "ax.set_title('Temperature Trends Hourly', fontsize=14)\n",
    "ax.set_xlabel('Time', fontsize=12)\n",
    "ax.set_ylabel('Temperature (°C)', fontsize=12)\n",
    "\n",
    "# Rotate x-axis labels\n",
    "plt.xticks(rotation=45)\n",
    "\n",
    "ax.grid(alpha=0.3);"
   ]
  },
  {
   "cell_type": "markdown",
   "metadata": {},
   "source": [
    "**From the figure**:\n",
    "The general trend shows a gradual increase in temperature throughout the day, which is characteristic of diurnal temperature cycles."
   ]
  },
  {
   "cell_type": "markdown",
   "metadata": {},
   "source": [
    "*** \n",
    "### END\n",
    "\n",
    "***"
   ]
  }
 ],
 "metadata": {
  "kernelspec": {
   "display_name": "Python 3",
   "language": "python",
   "name": "python3"
  },
  "language_info": {
   "codemirror_mode": {
    "name": "ipython",
    "version": 3
   },
   "file_extension": ".py",
   "mimetype": "text/x-python",
   "name": "python",
   "nbconvert_exporter": "python",
   "pygments_lexer": "ipython3",
   "version": "3.12.1"
  }
 },
 "nbformat": 4,
 "nbformat_minor": 2
}
